{
 "cells": [
  {
   "cell_type": "code",
   "execution_count": null,
   "metadata": {},
   "outputs": [],
   "source": [
    "# default_exp core"
   ]
  },
  {
   "cell_type": "markdown",
   "metadata": {},
   "source": [
    "# Rater\n",
    "\n",
    "> API details."
   ]
  },
  {
   "cell_type": "code",
   "execution_count": null,
   "metadata": {},
   "outputs": [
    {
     "name": "stdout",
     "output_type": "stream",
     "text": [
      "Collecting git+https://github.com/pete88b/nbdev_colab_helper.git\n",
      "  Cloning https://github.com/pete88b/nbdev_colab_helper.git to /tmp/pip-req-build-q97e3sg_\n",
      "  Running command git clone --filter=blob:none --quiet https://github.com/pete88b/nbdev_colab_helper.git /tmp/pip-req-build-q97e3sg_\n",
      "  Resolved https://github.com/pete88b/nbdev_colab_helper.git to commit 15cf67b6ca0c125a636cedc017f285a04771bbff\n",
      "  Preparing metadata (setup.py) ... \u001b[?25l\u001b[?25hdone\n",
      "Building wheels for collected packages: nbdev-colab-helper\n",
      "  Building wheel for nbdev-colab-helper (setup.py) ... \u001b[?25l\u001b[?25hdone\n",
      "  Created wheel for nbdev-colab-helper: filename=nbdev_colab_helper-0.0.1-py3-none-any.whl size=9679 sha256=8afcbbcfd6d07b832097d0aee83c85949a20d1ee2b4a7e0a3891c8cd234005ed\n",
      "  Stored in directory: /tmp/pip-ephem-wheel-cache-o7bcqcly/wheels/0c/50/90/0c073bb88ab36268043083b5ee7bc3a8b39c1a423c3c3736b7\n",
      "Successfully built nbdev-colab-helper\n",
      "Installing collected packages: nbdev-colab-helper\n",
      "Successfully installed nbdev-colab-helper-0.0.1\n",
      "Connecting to google drive\n",
      "Mounted at /content/drive\n",
      "/content/drive/My Drive/Colab Notebooks/github/rater\n",
      "pip install fastscript==1.0.0 fastcore==1.0.8 nbdev==1.0.14\n",
      "   Collecting fastscript==1.0.0\n",
      "  Downloading fastscript-1.0.0-py3-none-any.whl (11 kB)\n",
      "Collecting fastcore==1.0.8\n",
      "  Downloading fastcore-1.0.8-py3-none-any.whl (37 kB)\n",
      "Collecting nbdev==1.0.14\n",
      "  Downloading nbdev-1.0.14-py3-none-any.whl (57 kB)\n",
      "     ━━━━━━━━━━━━━━━━━━━━━━━━━━━━━━━━━━━━━━━━ 57.1/57.1 kB 2.5 MB/s eta 0:00:00\n",
      "Requirement already satisfied: pip in /usr/local/lib/python3.10/dist-packages (from fastscript==1.0.0) (23.1.2)\n",
      "Requirement already satisfied: packaging in /usr/local/lib/python3.10/dist-packages (from fastscript==1.0.0) (23.1)\n",
      "Requirement already satisfied: nbformat>=4.4.0 in /usr/local/lib/python3.10/dist-packages (from nbdev==1.0.14) (5.9.1)\n",
      "Requirement already satisfied: nbconvert>=5.6.1 in /usr/local/lib/python3.10/dist-packages (from nbdev==1.0.14) (6.5.4)\n",
      "Requirement already satisfied: pyyaml in /usr/local/lib/python3.10/dist-packages (from nbdev==1.0.14) (6.0.1)\n",
      "Requirement already satisfied: jupyter-client in /usr/local/lib/python3.10/dist-packages (from nbdev==1.0.14) (6.1.12)\n",
      "Requirement already satisfied: ipykernel in /usr/local/lib/python3.10/dist-packages (from nbdev==1.0.14) (5.5.6)\n",
      "Requirement already satisfied: lxml in /usr/local/lib/python3.10/dist-packages (from nbconvert>=5.6.1->nbdev==1.0.14) (4.9.3)\n",
      "Requirement already satisfied: beautifulsoup4 in /usr/local/lib/python3.10/dist-packages (from nbconvert>=5.6.1->nbdev==1.0.14) (4.11.2)\n",
      "Requirement already satisfied: bleach in /usr/local/lib/python3.10/dist-packages (from nbconvert>=5.6.1->nbdev==1.0.14) (6.0.0)\n",
      "Requirement already satisfied: defusedxml in /usr/local/lib/python3.10/dist-packages (from nbconvert>=5.6.1->nbdev==1.0.14) (0.7.1)\n",
      "Requirement already satisfied: entrypoints>=0.2.2 in /usr/local/lib/python3.10/dist-packages (from nbconvert>=5.6.1->nbdev==1.0.14) (0.4)\n",
      "Requirement already satisfied: jinja2>=3.0 in /usr/local/lib/python3.10/dist-packages (from nbconvert>=5.6.1->nbdev==1.0.14) (3.1.2)\n",
      "Requirement already satisfied: jupyter-core>=4.7 in /usr/local/lib/python3.10/dist-packages (from nbconvert>=5.6.1->nbdev==1.0.14) (5.3.1)\n",
      "Requirement already satisfied: jupyterlab-pygments in /usr/local/lib/python3.10/dist-packages (from nbconvert>=5.6.1->nbdev==1.0.14) (0.2.2)\n",
      "Requirement already satisfied: MarkupSafe>=2.0 in /usr/local/lib/python3.10/dist-packages (from nbconvert>=5.6.1->nbdev==1.0.14) (2.1.3)\n",
      "Requirement already satisfied: mistune<2,>=0.8.1 in /usr/local/lib/python3.10/dist-packages (from nbconvert>=5.6.1->nbdev==1.0.14) (0.8.4)\n",
      "Requirement already satisfied: nbclient>=0.5.0 in /usr/local/lib/python3.10/dist-packages (from nbconvert>=5.6.1->nbdev==1.0.14) (0.8.0)\n",
      "Requirement already satisfied: pandocfilters>=1.4.1 in /usr/local/lib/python3.10/dist-packages (from nbconvert>=5.6.1->nbdev==1.0.14) (1.5.0)\n",
      "Requirement already satisfied: pygments>=2.4.1 in /usr/local/lib/python3.10/dist-packages (from nbconvert>=5.6.1->nbdev==1.0.14) (2.14.0)\n",
      "Requirement already satisfied: tinycss2 in /usr/local/lib/python3.10/dist-packages (from nbconvert>=5.6.1->nbdev==1.0.14) (1.2.1)\n",
      "Requirement already satisfied: traitlets>=5.0 in /usr/local/lib/python3.10/dist-packages (from nbconvert>=5.6.1->nbdev==1.0.14) (5.7.1)\n",
      "Requirement already satisfied: fastjsonschema in /usr/local/lib/python3.10/dist-packages (from nbformat>=4.4.0->nbdev==1.0.14) (2.18.0)\n",
      "Requirement already satisfied: jsonschema>=2.6 in /usr/local/lib/python3.10/dist-packages (from nbformat>=4.4.0->nbdev==1.0.14) (4.3.3)\n",
      "Requirement already satisfied: ipython-genutils in /usr/local/lib/python3.10/dist-packages (from ipykernel->nbdev==1.0.14) (0.2.0)\n",
      "Requirement already satisfied: ipython>=5.0.0 in /usr/local/lib/python3.10/dist-packages (from ipykernel->nbdev==1.0.14) (7.34.0)\n",
      "Requirement already satisfied: tornado>=4.2 in /usr/local/lib/python3.10/dist-packages (from ipykernel->nbdev==1.0.14) (6.3.1)\n",
      "Requirement already satisfied: pyzmq>=13 in /usr/local/lib/python3.10/dist-packages (from jupyter-client->nbdev==1.0.14) (23.2.1)\n",
      "Requirement already satisfied: python-dateutil>=2.1 in /usr/local/lib/python3.10/dist-packages (from jupyter-client->nbdev==1.0.14) (2.8.2)\n",
      "Requirement already satisfied: setuptools>=18.5 in /usr/local/lib/python3.10/dist-packages (from ipython>=5.0.0->ipykernel->nbdev==1.0.14) (67.7.2)\n",
      "Collecting jedi>=0.16 (from ipython>=5.0.0->ipykernel->nbdev==1.0.14)\n",
      "  Downloading jedi-0.19.0-py2.py3-none-any.whl (1.6 MB)\n",
      "     ━━━━━━━━━━━━━━━━━━━━━━━━━━━━━━━━━━━━━━━━ 1.6/1.6 MB 25.0 MB/s eta 0:00:00\n",
      "Requirement already satisfied: decorator in /usr/local/lib/python3.10/dist-packages (from ipython>=5.0.0->ipykernel->nbdev==1.0.14) (4.4.2)\n",
      "Requirement already satisfied: pickleshare in /usr/local/lib/python3.10/dist-packages (from ipython>=5.0.0->ipykernel->nbdev==1.0.14) (0.7.5)\n",
      "Requirement already satisfied: prompt-toolkit!=3.0.0,!=3.0.1,<3.1.0,>=2.0.0 in /usr/local/lib/python3.10/dist-packages (from ipython>=5.0.0->ipykernel->nbdev==1.0.14) (3.0.39)\n",
      "Requirement already satisfied: backcall in /usr/local/lib/python3.10/dist-packages (from ipython>=5.0.0->ipykernel->nbdev==1.0.14) (0.2.0)\n",
      "Requirement already satisfied: matplotlib-inline in /usr/local/lib/python3.10/dist-packages (from ipython>=5.0.0->ipykernel->nbdev==1.0.14) (0.1.6)\n",
      "Requirement already satisfied: pexpect>4.3 in /usr/local/lib/python3.10/dist-packages (from ipython>=5.0.0->ipykernel->nbdev==1.0.14) (4.8.0)\n",
      "Requirement already satisfied: attrs>=17.4.0 in /usr/local/lib/python3.10/dist-packages (from jsonschema>=2.6->nbformat>=4.4.0->nbdev==1.0.14) (23.1.0)\n",
      "Requirement already satisfied: pyrsistent!=0.17.0,!=0.17.1,!=0.17.2,>=0.14.0 in /usr/local/lib/python3.10/dist-packages (from jsonschema>=2.6->nbformat>=4.4.0->nbdev==1.0.14) (0.19.3)\n",
      "Requirement already satisfied: platformdirs>=2.5 in /usr/local/lib/python3.10/dist-packages (from jupyter-core>=4.7->nbconvert>=5.6.1->nbdev==1.0.14) (3.9.1)\n",
      "Requirement already satisfied: six>=1.5 in /usr/local/lib/python3.10/dist-packages (from python-dateutil>=2.1->jupyter-client->nbdev==1.0.14) (1.16.0)\n",
      "Requirement already satisfied: soupsieve>1.2 in /usr/local/lib/python3.10/dist-packages (from beautifulsoup4->nbconvert>=5.6.1->nbdev==1.0.14) (2.4.1)\n",
      "Requirement already satisfied: webencodings in /usr/local/lib/python3.10/dist-packages (from bleach->nbconvert>=5.6.1->nbdev==1.0.14) (0.5.1)\n",
      "Requirement already satisfied: parso<0.9.0,>=0.8.3 in /usr/local/lib/python3.10/dist-packages (from jedi>=0.16->ipython>=5.0.0->ipykernel->nbdev==1.0.14) (0.8.3)\n",
      "Requirement already satisfied: ptyprocess>=0.5 in /usr/local/lib/python3.10/dist-packages (from pexpect>4.3->ipython>=5.0.0->ipykernel->nbdev==1.0.14) (0.7.0)\n",
      "Requirement already satisfied: wcwidth in /usr/local/lib/python3.10/dist-packages (from prompt-toolkit!=3.0.0,!=3.0.1,<3.1.0,>=2.0.0->ipython>=5.0.0->ipykernel->nbdev==1.0.14) (0.2.6)\n",
      "Installing collected packages: jedi, fastscript, fastcore, nbdev\n",
      "  Attempting uninstall: fastcore\n",
      "    Found existing installation: fastcore 1.5.29\n",
      "    Uninstalling fastcore-1.5.29:\n",
      "      Successfully uninstalled fastcore-1.5.29\n",
      "Successfully installed fastcore-1.0.8 fastscript-1.0.0 jedi-0.19.0 nbdev-1.0.14 \n",
      "/content/drive/My Drive/Colab Notebooks/github/rater\n"
     ]
    }
   ],
   "source": [
    "#hide\n",
    "IN_COLAB = 'google.colab' in str(get_ipython())\n",
    "if IN_COLAB:\n",
    "  !pip install git+https://github.com/pete88b/nbdev_colab_helper.git\n",
    "  from nbdev_colab_helper.core import *\n",
    "  project_name = 'rater'\n",
    "  init_notebook(project_name)"
   ]
  },
  {
   "cell_type": "code",
   "execution_count": null,
   "metadata": {},
   "outputs": [],
   "source": [
    "#hide\n",
    "from nbdev.showdoc import *"
   ]
  },
  {
   "cell_type": "code",
   "execution_count": null,
   "metadata": {},
   "outputs": [],
   "source": [
    "#export\n",
    "def say_hello(to):\n",
    "    '''Simple test function'''\n",
    "    return f'Hello {to}!'"
   ]
  },
  {
   "cell_type": "code",
   "execution_count": null,
   "metadata": {},
   "outputs": [],
   "source": [
    "assert say_hello(\"X\")==\"Hello X!\""
   ]
  },
  {
   "cell_type": "code",
   "execution_count": null,
   "metadata": {},
   "outputs": [],
   "source": [
    "#export\n",
    "class HelloSayer:\n",
    "    \"Say hello to `to` using `say_hello`\"\n",
    "    def __init__(self, to): self.to = to\n",
    "\n",
    "    def say(self):\n",
    "        \"Do the saying\"\n",
    "        return say_hello(self.to)"
   ]
  },
  {
   "cell_type": "code",
   "execution_count": null,
   "metadata": {},
   "outputs": [
    {
     "data": {
      "text/markdown": "<h4 id=\"HelloSayer.say\" class=\"doc_header\"><code>HelloSayer.say</code><a href=\"__main__.py#L6\" class=\"source_link\" style=\"float:right\">[source]</a></h4>\n\n> <code>HelloSayer.say</code>()\n\nDo the saying",
      "text/plain": [
       "<IPython.core.display.Markdown object>"
      ]
     },
     "metadata": {},
     "output_type": "display_data"
    }
   ],
   "source": [
    "show_doc(HelloSayer.say)"
   ]
  }
 ],
 "metadata": {
  "kernelspec": {
   "display_name": "Python 3",
   "language": "python",
   "name": "python3"
  }
 },
 "nbformat": 4,
 "nbformat_minor": 0
}
